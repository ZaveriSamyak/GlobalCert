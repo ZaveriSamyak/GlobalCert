{
 "cells": [
  {
   "cell_type": "code",
   "execution_count": 1,
   "id": "3202825c",
   "metadata": {},
   "outputs": [],
   "source": [
    "import numpy as np\n",
    "import pandas as pd\n",
    "import seaborn as sns\n",
    "import matplotlib.pyplot as plt\n",
    "%matplotlib inline\n",
    "from sklearn.model_selection import train_test_split\n",
    "from sklearn.ensemble import RandomForestClassifier\n",
    "from sklearn.preprocessing import LabelEncoder\n",
    "from sklearn import metrics\n",
    "from sklearn.metrics import confusion_matrix"
   ]
  },
  {
   "cell_type": "code",
   "execution_count": 2,
   "id": "53443472",
   "metadata": {},
   "outputs": [],
   "source": [
    "train = pd.read_csv('train.csv.zip')"
   ]
  },
  {
   "cell_type": "code",
   "execution_count": 3,
   "id": "df845fe8",
   "metadata": {},
   "outputs": [
    {
     "data": {
      "text/html": [
       "<div>\n",
       "<style scoped>\n",
       "    .dataframe tbody tr th:only-of-type {\n",
       "        vertical-align: middle;\n",
       "    }\n",
       "\n",
       "    .dataframe tbody tr th {\n",
       "        vertical-align: top;\n",
       "    }\n",
       "\n",
       "    .dataframe thead th {\n",
       "        text-align: right;\n",
       "    }\n",
       "</style>\n",
       "<table border=\"1\" class=\"dataframe\">\n",
       "  <thead>\n",
       "    <tr style=\"text-align: right;\">\n",
       "      <th></th>\n",
       "      <th>bidder_id</th>\n",
       "      <th>payment_account</th>\n",
       "      <th>address</th>\n",
       "      <th>outcome</th>\n",
       "    </tr>\n",
       "  </thead>\n",
       "  <tbody>\n",
       "    <tr>\n",
       "      <th>0</th>\n",
       "      <td>91a3c57b13234af24875c56fb7e2b2f4rb56a</td>\n",
       "      <td>a3d2de7675556553a5f08e4c88d2c228754av</td>\n",
       "      <td>a3d2de7675556553a5f08e4c88d2c228vt0u4</td>\n",
       "      <td>0.0</td>\n",
       "    </tr>\n",
       "    <tr>\n",
       "      <th>1</th>\n",
       "      <td>624f258b49e77713fc34034560f93fb3hu3jo</td>\n",
       "      <td>a3d2de7675556553a5f08e4c88d2c228v1sga</td>\n",
       "      <td>ae87054e5a97a8f840a3991d12611fdcrfbq3</td>\n",
       "      <td>0.0</td>\n",
       "    </tr>\n",
       "    <tr>\n",
       "      <th>2</th>\n",
       "      <td>1c5f4fc669099bfbfac515cd26997bd12ruaj</td>\n",
       "      <td>a3d2de7675556553a5f08e4c88d2c2280cybl</td>\n",
       "      <td>92520288b50f03907041887884ba49c0cl0pd</td>\n",
       "      <td>0.0</td>\n",
       "    </tr>\n",
       "    <tr>\n",
       "      <th>3</th>\n",
       "      <td>4bee9aba2abda51bf43d639013d6efe12iycd</td>\n",
       "      <td>51d80e233f7b6a7dfdee484a3c120f3b2ita8</td>\n",
       "      <td>4cb9717c8ad7e88a9a284989dd79b98dbevyi</td>\n",
       "      <td>0.0</td>\n",
       "    </tr>\n",
       "    <tr>\n",
       "      <th>4</th>\n",
       "      <td>4ab12bc61c82ddd9c2d65e60555808acqgos1</td>\n",
       "      <td>a3d2de7675556553a5f08e4c88d2c22857ddh</td>\n",
       "      <td>2a96c3ce94b3be921e0296097b88b56a7x1ji</td>\n",
       "      <td>0.0</td>\n",
       "    </tr>\n",
       "  </tbody>\n",
       "</table>\n",
       "</div>"
      ],
      "text/plain": [
       "                               bidder_id  \\\n",
       "0  91a3c57b13234af24875c56fb7e2b2f4rb56a   \n",
       "1  624f258b49e77713fc34034560f93fb3hu3jo   \n",
       "2  1c5f4fc669099bfbfac515cd26997bd12ruaj   \n",
       "3  4bee9aba2abda51bf43d639013d6efe12iycd   \n",
       "4  4ab12bc61c82ddd9c2d65e60555808acqgos1   \n",
       "\n",
       "                         payment_account  \\\n",
       "0  a3d2de7675556553a5f08e4c88d2c228754av   \n",
       "1  a3d2de7675556553a5f08e4c88d2c228v1sga   \n",
       "2  a3d2de7675556553a5f08e4c88d2c2280cybl   \n",
       "3  51d80e233f7b6a7dfdee484a3c120f3b2ita8   \n",
       "4  a3d2de7675556553a5f08e4c88d2c22857ddh   \n",
       "\n",
       "                                 address  outcome  \n",
       "0  a3d2de7675556553a5f08e4c88d2c228vt0u4      0.0  \n",
       "1  ae87054e5a97a8f840a3991d12611fdcrfbq3      0.0  \n",
       "2  92520288b50f03907041887884ba49c0cl0pd      0.0  \n",
       "3  4cb9717c8ad7e88a9a284989dd79b98dbevyi      0.0  \n",
       "4  2a96c3ce94b3be921e0296097b88b56a7x1ji      0.0  "
      ]
     },
     "execution_count": 3,
     "metadata": {},
     "output_type": "execute_result"
    }
   ],
   "source": [
    "train.head()"
   ]
  },
  {
   "cell_type": "code",
   "execution_count": 4,
   "id": "cd8fba5a",
   "metadata": {},
   "outputs": [],
   "source": [
    "bids= pd.read_csv('bids.csv.zip')"
   ]
  },
  {
   "cell_type": "code",
   "execution_count": 5,
   "id": "1a1aa012",
   "metadata": {},
   "outputs": [
    {
     "data": {
      "text/html": [
       "<div>\n",
       "<style scoped>\n",
       "    .dataframe tbody tr th:only-of-type {\n",
       "        vertical-align: middle;\n",
       "    }\n",
       "\n",
       "    .dataframe tbody tr th {\n",
       "        vertical-align: top;\n",
       "    }\n",
       "\n",
       "    .dataframe thead th {\n",
       "        text-align: right;\n",
       "    }\n",
       "</style>\n",
       "<table border=\"1\" class=\"dataframe\">\n",
       "  <thead>\n",
       "    <tr style=\"text-align: right;\">\n",
       "      <th></th>\n",
       "      <th>bid_id</th>\n",
       "      <th>bidder_id</th>\n",
       "      <th>auction</th>\n",
       "      <th>merchandise</th>\n",
       "      <th>device</th>\n",
       "      <th>time</th>\n",
       "      <th>country</th>\n",
       "      <th>ip</th>\n",
       "      <th>url</th>\n",
       "    </tr>\n",
       "  </thead>\n",
       "  <tbody>\n",
       "    <tr>\n",
       "      <th>0</th>\n",
       "      <td>0</td>\n",
       "      <td>8dac2b259fd1c6d1120e519fb1ac14fbqvax8</td>\n",
       "      <td>ewmzr</td>\n",
       "      <td>jewelry</td>\n",
       "      <td>phone0</td>\n",
       "      <td>9759243157894736</td>\n",
       "      <td>us</td>\n",
       "      <td>69.166.231.58</td>\n",
       "      <td>vasstdc27m7nks3</td>\n",
       "    </tr>\n",
       "    <tr>\n",
       "      <th>1</th>\n",
       "      <td>1</td>\n",
       "      <td>668d393e858e8126275433046bbd35c6tywop</td>\n",
       "      <td>aeqok</td>\n",
       "      <td>furniture</td>\n",
       "      <td>phone1</td>\n",
       "      <td>9759243157894736</td>\n",
       "      <td>in</td>\n",
       "      <td>50.201.125.84</td>\n",
       "      <td>jmqlhflrzwuay9c</td>\n",
       "    </tr>\n",
       "    <tr>\n",
       "      <th>2</th>\n",
       "      <td>2</td>\n",
       "      <td>aa5f360084278b35d746fa6af3a7a1a5ra3xe</td>\n",
       "      <td>wa00e</td>\n",
       "      <td>home goods</td>\n",
       "      <td>phone2</td>\n",
       "      <td>9759243157894736</td>\n",
       "      <td>py</td>\n",
       "      <td>112.54.208.157</td>\n",
       "      <td>vasstdc27m7nks3</td>\n",
       "    </tr>\n",
       "    <tr>\n",
       "      <th>3</th>\n",
       "      <td>3</td>\n",
       "      <td>3939ac3ef7d472a59a9c5f893dd3e39fh9ofi</td>\n",
       "      <td>jefix</td>\n",
       "      <td>jewelry</td>\n",
       "      <td>phone4</td>\n",
       "      <td>9759243157894736</td>\n",
       "      <td>in</td>\n",
       "      <td>18.99.175.133</td>\n",
       "      <td>vasstdc27m7nks3</td>\n",
       "    </tr>\n",
       "    <tr>\n",
       "      <th>4</th>\n",
       "      <td>4</td>\n",
       "      <td>8393c48eaf4b8fa96886edc7cf27b372dsibi</td>\n",
       "      <td>jefix</td>\n",
       "      <td>jewelry</td>\n",
       "      <td>phone5</td>\n",
       "      <td>9759243157894736</td>\n",
       "      <td>in</td>\n",
       "      <td>145.138.5.37</td>\n",
       "      <td>vasstdc27m7nks3</td>\n",
       "    </tr>\n",
       "  </tbody>\n",
       "</table>\n",
       "</div>"
      ],
      "text/plain": [
       "   bid_id                              bidder_id auction merchandise  device  \\\n",
       "0       0  8dac2b259fd1c6d1120e519fb1ac14fbqvax8   ewmzr     jewelry  phone0   \n",
       "1       1  668d393e858e8126275433046bbd35c6tywop   aeqok   furniture  phone1   \n",
       "2       2  aa5f360084278b35d746fa6af3a7a1a5ra3xe   wa00e  home goods  phone2   \n",
       "3       3  3939ac3ef7d472a59a9c5f893dd3e39fh9ofi   jefix     jewelry  phone4   \n",
       "4       4  8393c48eaf4b8fa96886edc7cf27b372dsibi   jefix     jewelry  phone5   \n",
       "\n",
       "               time country              ip              url  \n",
       "0  9759243157894736      us   69.166.231.58  vasstdc27m7nks3  \n",
       "1  9759243157894736      in   50.201.125.84  jmqlhflrzwuay9c  \n",
       "2  9759243157894736      py  112.54.208.157  vasstdc27m7nks3  \n",
       "3  9759243157894736      in   18.99.175.133  vasstdc27m7nks3  \n",
       "4  9759243157894736      in    145.138.5.37  vasstdc27m7nks3  "
      ]
     },
     "execution_count": 5,
     "metadata": {},
     "output_type": "execute_result"
    }
   ],
   "source": [
    "bids.head()"
   ]
  },
  {
   "cell_type": "code",
   "execution_count": 6,
   "id": "d48124a8",
   "metadata": {},
   "outputs": [
    {
     "name": "stdout",
     "output_type": "stream",
     "text": [
      "<class 'pandas.core.frame.DataFrame'>\n",
      "RangeIndex: 2013 entries, 0 to 2012\n",
      "Data columns (total 4 columns):\n",
      " #   Column           Non-Null Count  Dtype  \n",
      "---  ------           --------------  -----  \n",
      " 0   bidder_id        2013 non-null   object \n",
      " 1   payment_account  2013 non-null   object \n",
      " 2   address          2013 non-null   object \n",
      " 3   outcome          2013 non-null   float64\n",
      "dtypes: float64(1), object(3)\n",
      "memory usage: 63.0+ KB\n"
     ]
    }
   ],
   "source": [
    "train.info()"
   ]
  },
  {
   "cell_type": "code",
   "execution_count": 7,
   "id": "074643ec",
   "metadata": {},
   "outputs": [
    {
     "name": "stdout",
     "output_type": "stream",
     "text": [
      "<class 'pandas.core.frame.DataFrame'>\n",
      "RangeIndex: 7656334 entries, 0 to 7656333\n",
      "Data columns (total 9 columns):\n",
      " #   Column       Dtype \n",
      "---  ------       ----- \n",
      " 0   bid_id       int64 \n",
      " 1   bidder_id    object\n",
      " 2   auction      object\n",
      " 3   merchandise  object\n",
      " 4   device       object\n",
      " 5   time         int64 \n",
      " 6   country      object\n",
      " 7   ip           object\n",
      " 8   url          object\n",
      "dtypes: int64(2), object(7)\n",
      "memory usage: 525.7+ MB\n"
     ]
    }
   ],
   "source": [
    "bids.info()"
   ]
  },
  {
   "cell_type": "code",
   "execution_count": 8,
   "id": "84da4086",
   "metadata": {},
   "outputs": [],
   "source": [
    "bids = bids.drop('bid_id', axis=1)"
   ]
  },
  {
   "cell_type": "code",
   "execution_count": 9,
   "id": "68b5afa5",
   "metadata": {},
   "outputs": [
    {
     "data": {
      "text/html": [
       "<div>\n",
       "<style scoped>\n",
       "    .dataframe tbody tr th:only-of-type {\n",
       "        vertical-align: middle;\n",
       "    }\n",
       "\n",
       "    .dataframe tbody tr th {\n",
       "        vertical-align: top;\n",
       "    }\n",
       "\n",
       "    .dataframe thead th {\n",
       "        text-align: right;\n",
       "    }\n",
       "</style>\n",
       "<table border=\"1\" class=\"dataframe\">\n",
       "  <thead>\n",
       "    <tr style=\"text-align: right;\">\n",
       "      <th></th>\n",
       "      <th>bidder_id</th>\n",
       "      <th>auction</th>\n",
       "      <th>merchandise</th>\n",
       "      <th>device</th>\n",
       "      <th>time</th>\n",
       "      <th>country</th>\n",
       "      <th>ip</th>\n",
       "      <th>url</th>\n",
       "      <th>time_normalized</th>\n",
       "    </tr>\n",
       "  </thead>\n",
       "  <tbody>\n",
       "    <tr>\n",
       "      <th>0</th>\n",
       "      <td>8dac2b259fd1c6d1120e519fb1ac14fbqvax8</td>\n",
       "      <td>ewmzr</td>\n",
       "      <td>jewelry</td>\n",
       "      <td>phone0</td>\n",
       "      <td>9759243157894736</td>\n",
       "      <td>us</td>\n",
       "      <td>69.166.231.58</td>\n",
       "      <td>vasstdc27m7nks3</td>\n",
       "      <td>2419200.0</td>\n",
       "    </tr>\n",
       "    <tr>\n",
       "      <th>1</th>\n",
       "      <td>668d393e858e8126275433046bbd35c6tywop</td>\n",
       "      <td>aeqok</td>\n",
       "      <td>furniture</td>\n",
       "      <td>phone1</td>\n",
       "      <td>9759243157894736</td>\n",
       "      <td>in</td>\n",
       "      <td>50.201.125.84</td>\n",
       "      <td>jmqlhflrzwuay9c</td>\n",
       "      <td>2419200.0</td>\n",
       "    </tr>\n",
       "    <tr>\n",
       "      <th>2</th>\n",
       "      <td>aa5f360084278b35d746fa6af3a7a1a5ra3xe</td>\n",
       "      <td>wa00e</td>\n",
       "      <td>home goods</td>\n",
       "      <td>phone2</td>\n",
       "      <td>9759243157894736</td>\n",
       "      <td>py</td>\n",
       "      <td>112.54.208.157</td>\n",
       "      <td>vasstdc27m7nks3</td>\n",
       "      <td>2419200.0</td>\n",
       "    </tr>\n",
       "    <tr>\n",
       "      <th>3</th>\n",
       "      <td>3939ac3ef7d472a59a9c5f893dd3e39fh9ofi</td>\n",
       "      <td>jefix</td>\n",
       "      <td>jewelry</td>\n",
       "      <td>phone4</td>\n",
       "      <td>9759243157894736</td>\n",
       "      <td>in</td>\n",
       "      <td>18.99.175.133</td>\n",
       "      <td>vasstdc27m7nks3</td>\n",
       "      <td>2419200.0</td>\n",
       "    </tr>\n",
       "    <tr>\n",
       "      <th>4</th>\n",
       "      <td>8393c48eaf4b8fa96886edc7cf27b372dsibi</td>\n",
       "      <td>jefix</td>\n",
       "      <td>jewelry</td>\n",
       "      <td>phone5</td>\n",
       "      <td>9759243157894736</td>\n",
       "      <td>in</td>\n",
       "      <td>145.138.5.37</td>\n",
       "      <td>vasstdc27m7nks3</td>\n",
       "      <td>2419200.0</td>\n",
       "    </tr>\n",
       "  </tbody>\n",
       "</table>\n",
       "</div>"
      ],
      "text/plain": [
       "                               bidder_id auction merchandise  device  \\\n",
       "0  8dac2b259fd1c6d1120e519fb1ac14fbqvax8   ewmzr     jewelry  phone0   \n",
       "1  668d393e858e8126275433046bbd35c6tywop   aeqok   furniture  phone1   \n",
       "2  aa5f360084278b35d746fa6af3a7a1a5ra3xe   wa00e  home goods  phone2   \n",
       "3  3939ac3ef7d472a59a9c5f893dd3e39fh9ofi   jefix     jewelry  phone4   \n",
       "4  8393c48eaf4b8fa96886edc7cf27b372dsibi   jefix     jewelry  phone5   \n",
       "\n",
       "               time country              ip              url  time_normalized  \n",
       "0  9759243157894736      us   69.166.231.58  vasstdc27m7nks3        2419200.0  \n",
       "1  9759243157894736      in   50.201.125.84  jmqlhflrzwuay9c        2419200.0  \n",
       "2  9759243157894736      py  112.54.208.157  vasstdc27m7nks3        2419200.0  \n",
       "3  9759243157894736      in   18.99.175.133  vasstdc27m7nks3        2419200.0  \n",
       "4  9759243157894736      in    145.138.5.37  vasstdc27m7nks3        2419200.0  "
      ]
     },
     "execution_count": 9,
     "metadata": {},
     "output_type": "execute_result"
    }
   ],
   "source": [
    "min_time = bids['time'].min()\n",
    "bids['time_normalized'] = round((bids['time'] - min_time) * 19 / 1e9,2)\n",
    "bids.head()"
   ]
  },
  {
   "cell_type": "code",
   "execution_count": 10,
   "id": "cee2cf5a",
   "metadata": {},
   "outputs": [
    {
     "name": "stdout",
     "output_type": "stream",
     "text": [
      "<class 'pandas.core.frame.DataFrame'>\n",
      "Int64Index: 3071224 entries, 0 to 3071223\n",
      "Data columns (total 12 columns):\n",
      " #   Column           Dtype  \n",
      "---  ------           -----  \n",
      " 0   bidder_id        object \n",
      " 1   payment_account  object \n",
      " 2   address          object \n",
      " 3   outcome          float64\n",
      " 4   auction          object \n",
      " 5   merchandise      object \n",
      " 6   device           object \n",
      " 7   time             int64  \n",
      " 8   country          object \n",
      " 9   ip               object \n",
      " 10  url              object \n",
      " 11  time_normalized  float64\n",
      "dtypes: float64(2), int64(1), object(9)\n",
      "memory usage: 304.6+ MB\n"
     ]
    }
   ],
   "source": [
    "train.set_index('bidder_id')\n",
    "bids.set_index('bidder_id')\n",
    "df = pd.merge(train, bids)\n",
    "df.info()"
   ]
  },
  {
   "cell_type": "code",
   "execution_count": 11,
   "id": "1295a2ab",
   "metadata": {},
   "outputs": [
    {
     "data": {
      "text/html": [
       "<div>\n",
       "<style scoped>\n",
       "    .dataframe tbody tr th:only-of-type {\n",
       "        vertical-align: middle;\n",
       "    }\n",
       "\n",
       "    .dataframe tbody tr th {\n",
       "        vertical-align: top;\n",
       "    }\n",
       "\n",
       "    .dataframe thead th {\n",
       "        text-align: right;\n",
       "    }\n",
       "</style>\n",
       "<table border=\"1\" class=\"dataframe\">\n",
       "  <thead>\n",
       "    <tr style=\"text-align: right;\">\n",
       "      <th></th>\n",
       "      <th>Missing Values</th>\n",
       "    </tr>\n",
       "  </thead>\n",
       "  <tbody>\n",
       "    <tr>\n",
       "      <th>bidder_id</th>\n",
       "      <td>0</td>\n",
       "    </tr>\n",
       "    <tr>\n",
       "      <th>payment_account</th>\n",
       "      <td>0</td>\n",
       "    </tr>\n",
       "    <tr>\n",
       "      <th>address</th>\n",
       "      <td>0</td>\n",
       "    </tr>\n",
       "    <tr>\n",
       "      <th>outcome</th>\n",
       "      <td>0</td>\n",
       "    </tr>\n",
       "    <tr>\n",
       "      <th>auction</th>\n",
       "      <td>0</td>\n",
       "    </tr>\n",
       "    <tr>\n",
       "      <th>merchandise</th>\n",
       "      <td>0</td>\n",
       "    </tr>\n",
       "    <tr>\n",
       "      <th>device</th>\n",
       "      <td>0</td>\n",
       "    </tr>\n",
       "    <tr>\n",
       "      <th>time</th>\n",
       "      <td>0</td>\n",
       "    </tr>\n",
       "    <tr>\n",
       "      <th>country</th>\n",
       "      <td>2701</td>\n",
       "    </tr>\n",
       "    <tr>\n",
       "      <th>ip</th>\n",
       "      <td>0</td>\n",
       "    </tr>\n",
       "    <tr>\n",
       "      <th>url</th>\n",
       "      <td>0</td>\n",
       "    </tr>\n",
       "    <tr>\n",
       "      <th>time_normalized</th>\n",
       "      <td>0</td>\n",
       "    </tr>\n",
       "  </tbody>\n",
       "</table>\n",
       "</div>"
      ],
      "text/plain": [
       "                 Missing Values\n",
       "bidder_id                     0\n",
       "payment_account               0\n",
       "address                       0\n",
       "outcome                       0\n",
       "auction                       0\n",
       "merchandise                   0\n",
       "device                        0\n",
       "time                          0\n",
       "country                    2701\n",
       "ip                            0\n",
       "url                           0\n",
       "time_normalized               0"
      ]
     },
     "execution_count": 11,
     "metadata": {},
     "output_type": "execute_result"
    }
   ],
   "source": [
    "MissingValues = df.isnull().sum()\n",
    "MissingValuesdf = pd.DataFrame(MissingValues)\n",
    "MissingValuesdf.columns = ['Missing Values']\n",
    "MissingValuesdf"
   ]
  },
  {
   "cell_type": "code",
   "execution_count": 12,
   "id": "242ad4a9",
   "metadata": {},
   "outputs": [
    {
     "data": {
      "text/plain": [
       "bidder_id          3071224\n",
       "payment_account    3071224\n",
       "address            3071224\n",
       "outcome            3071224\n",
       "auction            3071224\n",
       "merchandise        3071224\n",
       "device             3071224\n",
       "time               3071224\n",
       "country            3068523\n",
       "ip                 3071224\n",
       "url                3071224\n",
       "time_normalized    3071224\n",
       "dtype: int64"
      ]
     },
     "execution_count": 12,
     "metadata": {},
     "output_type": "execute_result"
    }
   ],
   "source": [
    "df. count()"
   ]
  },
  {
   "cell_type": "code",
   "execution_count": 13,
   "id": "4bc4ead8",
   "metadata": {},
   "outputs": [
    {
     "data": {
      "text/plain": [
       "bidder_id          3068523\n",
       "payment_account    3068523\n",
       "address            3068523\n",
       "outcome            3068523\n",
       "auction            3068523\n",
       "merchandise        3068523\n",
       "device             3068523\n",
       "time               3068523\n",
       "country            3068523\n",
       "ip                 3068523\n",
       "url                3068523\n",
       "time_normalized    3068523\n",
       "dtype: int64"
      ]
     },
     "execution_count": 13,
     "metadata": {},
     "output_type": "execute_result"
    }
   ],
   "source": [
    "df = df.dropna() \n",
    "df. count()"
   ]
  },
  {
   "cell_type": "code",
   "execution_count": null,
   "id": "629f4e24",
   "metadata": {},
   "outputs": [],
   "source": []
  },
  {
   "cell_type": "code",
   "execution_count": 14,
   "id": "d30769d0",
   "metadata": {},
   "outputs": [
    {
     "name": "stdout",
     "output_type": "stream",
     "text": [
      "number of duplicate rows:  (64, 12)\n"
     ]
    }
   ],
   "source": [
    "duplicate_rows_df = df[df.duplicated()]\n",
    "print( \"number of duplicate rows: \", duplicate_rows_df.shape)"
   ]
  },
  {
   "cell_type": "code",
   "execution_count": 15,
   "id": "111cb318",
   "metadata": {},
   "outputs": [
    {
     "name": "stdout",
     "output_type": "stream",
     "text": [
      "bidder_id          0\n",
      "payment_account    0\n",
      "address            0\n",
      "outcome            0\n",
      "auction            0\n",
      "merchandise        0\n",
      "device             0\n",
      "time               0\n",
      "country            0\n",
      "ip                 0\n",
      "url                0\n",
      "time_normalized    0\n",
      "dtype: int64\n"
     ]
    }
   ],
   "source": [
    "print(df.isnull().sum())"
   ]
  },
  {
   "cell_type": "code",
   "execution_count": 16,
   "id": "d0a187db",
   "metadata": {},
   "outputs": [
    {
     "data": {
      "text/plain": [
       "bidder_id          3068459\n",
       "payment_account    3068459\n",
       "address            3068459\n",
       "outcome            3068459\n",
       "auction            3068459\n",
       "merchandise        3068459\n",
       "device             3068459\n",
       "time               3068459\n",
       "country            3068459\n",
       "ip                 3068459\n",
       "url                3068459\n",
       "time_normalized    3068459\n",
       "dtype: int64"
      ]
     },
     "execution_count": 16,
     "metadata": {},
     "output_type": "execute_result"
    }
   ],
   "source": [
    "df.drop_duplicates(inplace=True)\n",
    "df.count()"
   ]
  },
  {
   "cell_type": "code",
   "execution_count": 17,
   "id": "d2d0620b",
   "metadata": {},
   "outputs": [
    {
     "data": {
      "text/plain": [
       "0.0    2656312\n",
       "1.0     412147\n",
       "Name: outcome, dtype: int64"
      ]
     },
     "execution_count": 17,
     "metadata": {},
     "output_type": "execute_result"
    }
   ],
   "source": [
    "df['outcome'].value_counts()"
   ]
  },
  {
   "cell_type": "code",
   "execution_count": 18,
   "id": "b6413dbf",
   "metadata": {},
   "outputs": [
    {
     "data": {
      "text/plain": [
       "13.431725827198605"
      ]
     },
     "execution_count": 18,
     "metadata": {},
     "output_type": "execute_result"
    }
   ],
   "source": [
    "(412147/(2656312+412147))*100"
   ]
  },
  {
   "cell_type": "code",
   "execution_count": 19,
   "id": "94c6efb7",
   "metadata": {},
   "outputs": [
    {
     "data": {
      "text/html": [
       "<div>\n",
       "<style scoped>\n",
       "    .dataframe tbody tr th:only-of-type {\n",
       "        vertical-align: middle;\n",
       "    }\n",
       "\n",
       "    .dataframe tbody tr th {\n",
       "        vertical-align: top;\n",
       "    }\n",
       "\n",
       "    .dataframe thead th {\n",
       "        text-align: right;\n",
       "    }\n",
       "</style>\n",
       "<table border=\"1\" class=\"dataframe\">\n",
       "  <thead>\n",
       "    <tr style=\"text-align: right;\">\n",
       "      <th></th>\n",
       "      <th>bidder_id</th>\n",
       "      <th>payment_account</th>\n",
       "      <th>address</th>\n",
       "      <th>outcome</th>\n",
       "      <th>auction</th>\n",
       "      <th>merchandise</th>\n",
       "      <th>device</th>\n",
       "      <th>time</th>\n",
       "      <th>country</th>\n",
       "      <th>ip</th>\n",
       "      <th>url</th>\n",
       "      <th>time_normalized</th>\n",
       "    </tr>\n",
       "  </thead>\n",
       "  <tbody>\n",
       "    <tr>\n",
       "      <th>3793</th>\n",
       "      <td>5354c02817e47f28e60e44a40ca5e48dll4sz</td>\n",
       "      <td>1862ef3b7965993cc975a1161010e810w2bwo</td>\n",
       "      <td>58e5dc4d38d886f6c7abf0c264a51cb7alhj2</td>\n",
       "      <td>1.0</td>\n",
       "      <td>1l3p3</td>\n",
       "      <td>mobile</td>\n",
       "      <td>phone65</td>\n",
       "      <td>9632357157894736</td>\n",
       "      <td>id</td>\n",
       "      <td>246.142.185.135</td>\n",
       "      <td>vasstdc27m7nks3</td>\n",
       "      <td>8366.0</td>\n",
       "    </tr>\n",
       "    <tr>\n",
       "      <th>3794</th>\n",
       "      <td>5354c02817e47f28e60e44a40ca5e48dll4sz</td>\n",
       "      <td>1862ef3b7965993cc975a1161010e810w2bwo</td>\n",
       "      <td>58e5dc4d38d886f6c7abf0c264a51cb7alhj2</td>\n",
       "      <td>1.0</td>\n",
       "      <td>62d9x</td>\n",
       "      <td>mobile</td>\n",
       "      <td>phone557</td>\n",
       "      <td>9632435631578947</td>\n",
       "      <td>id</td>\n",
       "      <td>246.142.185.135</td>\n",
       "      <td>vasstdc27m7nks3</td>\n",
       "      <td>9857.0</td>\n",
       "    </tr>\n",
       "    <tr>\n",
       "      <th>3795</th>\n",
       "      <td>5354c02817e47f28e60e44a40ca5e48dll4sz</td>\n",
       "      <td>1862ef3b7965993cc975a1161010e810w2bwo</td>\n",
       "      <td>58e5dc4d38d886f6c7abf0c264a51cb7alhj2</td>\n",
       "      <td>1.0</td>\n",
       "      <td>62d9x</td>\n",
       "      <td>mobile</td>\n",
       "      <td>phone212</td>\n",
       "      <td>9632481315789473</td>\n",
       "      <td>id</td>\n",
       "      <td>246.142.185.135</td>\n",
       "      <td>vasstdc27m7nks3</td>\n",
       "      <td>10725.0</td>\n",
       "    </tr>\n",
       "    <tr>\n",
       "      <th>3796</th>\n",
       "      <td>5354c02817e47f28e60e44a40ca5e48dll4sz</td>\n",
       "      <td>1862ef3b7965993cc975a1161010e810w2bwo</td>\n",
       "      <td>58e5dc4d38d886f6c7abf0c264a51cb7alhj2</td>\n",
       "      <td>1.0</td>\n",
       "      <td>436hc</td>\n",
       "      <td>mobile</td>\n",
       "      <td>phone20</td>\n",
       "      <td>9632506210526315</td>\n",
       "      <td>id</td>\n",
       "      <td>246.142.185.135</td>\n",
       "      <td>vasstdc27m7nks3</td>\n",
       "      <td>11198.0</td>\n",
       "    </tr>\n",
       "    <tr>\n",
       "      <th>3797</th>\n",
       "      <td>5354c02817e47f28e60e44a40ca5e48dll4sz</td>\n",
       "      <td>1862ef3b7965993cc975a1161010e810w2bwo</td>\n",
       "      <td>58e5dc4d38d886f6c7abf0c264a51cb7alhj2</td>\n",
       "      <td>1.0</td>\n",
       "      <td>1l3p3</td>\n",
       "      <td>mobile</td>\n",
       "      <td>phone55</td>\n",
       "      <td>9634184894736842</td>\n",
       "      <td>id</td>\n",
       "      <td>246.142.185.135</td>\n",
       "      <td>vasstdc27m7nks3</td>\n",
       "      <td>43093.0</td>\n",
       "    </tr>\n",
       "  </tbody>\n",
       "</table>\n",
       "</div>"
      ],
      "text/plain": [
       "                                  bidder_id  \\\n",
       "3793  5354c02817e47f28e60e44a40ca5e48dll4sz   \n",
       "3794  5354c02817e47f28e60e44a40ca5e48dll4sz   \n",
       "3795  5354c02817e47f28e60e44a40ca5e48dll4sz   \n",
       "3796  5354c02817e47f28e60e44a40ca5e48dll4sz   \n",
       "3797  5354c02817e47f28e60e44a40ca5e48dll4sz   \n",
       "\n",
       "                            payment_account  \\\n",
       "3793  1862ef3b7965993cc975a1161010e810w2bwo   \n",
       "3794  1862ef3b7965993cc975a1161010e810w2bwo   \n",
       "3795  1862ef3b7965993cc975a1161010e810w2bwo   \n",
       "3796  1862ef3b7965993cc975a1161010e810w2bwo   \n",
       "3797  1862ef3b7965993cc975a1161010e810w2bwo   \n",
       "\n",
       "                                    address  outcome auction merchandise  \\\n",
       "3793  58e5dc4d38d886f6c7abf0c264a51cb7alhj2      1.0   1l3p3      mobile   \n",
       "3794  58e5dc4d38d886f6c7abf0c264a51cb7alhj2      1.0   62d9x      mobile   \n",
       "3795  58e5dc4d38d886f6c7abf0c264a51cb7alhj2      1.0   62d9x      mobile   \n",
       "3796  58e5dc4d38d886f6c7abf0c264a51cb7alhj2      1.0   436hc      mobile   \n",
       "3797  58e5dc4d38d886f6c7abf0c264a51cb7alhj2      1.0   1l3p3      mobile   \n",
       "\n",
       "        device              time country               ip              url  \\\n",
       "3793   phone65  9632357157894736      id  246.142.185.135  vasstdc27m7nks3   \n",
       "3794  phone557  9632435631578947      id  246.142.185.135  vasstdc27m7nks3   \n",
       "3795  phone212  9632481315789473      id  246.142.185.135  vasstdc27m7nks3   \n",
       "3796   phone20  9632506210526315      id  246.142.185.135  vasstdc27m7nks3   \n",
       "3797   phone55  9634184894736842      id  246.142.185.135  vasstdc27m7nks3   \n",
       "\n",
       "      time_normalized  \n",
       "3793           8366.0  \n",
       "3794           9857.0  \n",
       "3795          10725.0  \n",
       "3796          11198.0  \n",
       "3797          43093.0  "
      ]
     },
     "execution_count": 19,
     "metadata": {},
     "output_type": "execute_result"
    }
   ],
   "source": [
    "Dbots = df['outcome'] == 1.0\n",
    "Dbots = df[Dbots]\n",
    "Dbots.head()"
   ]
  },
  {
   "cell_type": "code",
   "execution_count": 20,
   "id": "83e4d9ff",
   "metadata": {},
   "outputs": [
    {
     "data": {
      "text/plain": [
       "bidder_id          412147\n",
       "payment_account    412147\n",
       "address            412147\n",
       "outcome            412147\n",
       "auction            412147\n",
       "merchandise        412147\n",
       "device             412147\n",
       "time               412147\n",
       "country            412147\n",
       "ip                 412147\n",
       "url                412147\n",
       "time_normalized    412147\n",
       "dtype: int64"
      ]
     },
     "execution_count": 20,
     "metadata": {},
     "output_type": "execute_result"
    }
   ],
   "source": [
    "Dbots.count()"
   ]
  },
  {
   "cell_type": "code",
   "execution_count": 21,
   "id": "5725ff89",
   "metadata": {},
   "outputs": [
    {
     "data": {
      "text/html": [
       "<div>\n",
       "<style scoped>\n",
       "    .dataframe tbody tr th:only-of-type {\n",
       "        vertical-align: middle;\n",
       "    }\n",
       "\n",
       "    .dataframe tbody tr th {\n",
       "        vertical-align: top;\n",
       "    }\n",
       "\n",
       "    .dataframe thead th {\n",
       "        text-align: right;\n",
       "    }\n",
       "</style>\n",
       "<table border=\"1\" class=\"dataframe\">\n",
       "  <thead>\n",
       "    <tr style=\"text-align: right;\">\n",
       "      <th></th>\n",
       "      <th>country</th>\n",
       "      <th>Count</th>\n",
       "    </tr>\n",
       "  </thead>\n",
       "  <tbody>\n",
       "    <tr>\n",
       "      <th>80</th>\n",
       "      <td>in</td>\n",
       "      <td>86385</td>\n",
       "    </tr>\n",
       "    <tr>\n",
       "      <th>180</th>\n",
       "      <td>us</td>\n",
       "      <td>66663</td>\n",
       "    </tr>\n",
       "    <tr>\n",
       "      <th>77</th>\n",
       "      <td>id</td>\n",
       "      <td>20495</td>\n",
       "    </tr>\n",
       "    <tr>\n",
       "      <th>43</th>\n",
       "      <td>de</td>\n",
       "      <td>18530</td>\n",
       "    </tr>\n",
       "    <tr>\n",
       "      <th>168</th>\n",
       "      <td>th</td>\n",
       "      <td>17282</td>\n",
       "    </tr>\n",
       "    <tr>\n",
       "      <th>187</th>\n",
       "      <td>za</td>\n",
       "      <td>13364</td>\n",
       "    </tr>\n",
       "  </tbody>\n",
       "</table>\n",
       "</div>"
      ],
      "text/plain": [
       "    country  Count\n",
       "80       in  86385\n",
       "180      us  66663\n",
       "77       id  20495\n",
       "43       de  18530\n",
       "168      th  17282\n",
       "187      za  13364"
      ]
     },
     "execution_count": 21,
     "metadata": {},
     "output_type": "execute_result"
    }
   ],
   "source": [
    "CountryOrd = Dbots.groupby(['country'])['bidder_id'].count().reset_index(name='Count').sort_values(['Count'], ascending=False)\n",
    "CountryOrd.head(6)"
   ]
  },
  {
   "cell_type": "code",
   "execution_count": 22,
   "id": "be9d873d",
   "metadata": {},
   "outputs": [
    {
     "data": {
      "text/plain": [
       "<AxesSubplot:xlabel='country', ylabel='Count'>"
      ]
     },
     "execution_count": 22,
     "metadata": {},
     "output_type": "execute_result"
    },
    {
     "data": {
      "image/png": "[encoded data removed]",
      "text/plain": [
       "<Figure size 936x576 with 1 Axes>"
      ]
     },
     "metadata": {
      "needs_background": "light"
     },
     "output_type": "display_data"
    }
   ],
   "source": [
    "A = CountryOrd[0:6]\n",
    "plt.figure(figsize=(13,8))\n",
    "sns.barplot(x = A.country, y= A.Count, data= A, palette=\"Set2\")"
   ]
  },
  {
   "cell_type": "code",
   "execution_count": 23,
   "id": "790a41fe",
   "metadata": {},
   "outputs": [
    {
     "data": {
      "text/html": [
       "<div>\n",
       "<style scoped>\n",
       "    .dataframe tbody tr th:only-of-type {\n",
       "        vertical-align: middle;\n",
       "    }\n",
       "\n",
       "    .dataframe tbody tr th {\n",
       "        vertical-align: top;\n",
       "    }\n",
       "\n",
       "    .dataframe thead th {\n",
       "        text-align: right;\n",
       "    }\n",
       "</style>\n",
       "<table border=\"1\" class=\"dataframe\">\n",
       "  <thead>\n",
       "    <tr style=\"text-align: right;\">\n",
       "      <th></th>\n",
       "      <th>device</th>\n",
       "      <th>Count</th>\n",
       "    </tr>\n",
       "  </thead>\n",
       "  <tbody>\n",
       "    <tr>\n",
       "      <th>589</th>\n",
       "      <td>phone17</td>\n",
       "      <td>16219</td>\n",
       "    </tr>\n",
       "    <tr>\n",
       "      <th>169</th>\n",
       "      <td>phone119</td>\n",
       "      <td>14825</td>\n",
       "    </tr>\n",
       "    <tr>\n",
       "      <th>2157</th>\n",
       "      <td>phone46</td>\n",
       "      <td>14548</td>\n",
       "    </tr>\n",
       "    <tr>\n",
       "      <th>1943</th>\n",
       "      <td>phone4</td>\n",
       "      <td>14102</td>\n",
       "    </tr>\n",
       "    <tr>\n",
       "      <th>2630</th>\n",
       "      <td>phone65</td>\n",
       "      <td>9963</td>\n",
       "    </tr>\n",
       "    <tr>\n",
       "      <th>2571</th>\n",
       "      <td>phone62</td>\n",
       "      <td>9404</td>\n",
       "    </tr>\n",
       "  </tbody>\n",
       "</table>\n",
       "</div>"
      ],
      "text/plain": [
       "        device  Count\n",
       "589    phone17  16219\n",
       "169   phone119  14825\n",
       "2157   phone46  14548\n",
       "1943    phone4  14102\n",
       "2630   phone65   9963\n",
       "2571   phone62   9404"
      ]
     },
     "execution_count": 23,
     "metadata": {},
     "output_type": "execute_result"
    }
   ],
   "source": [
    "DeviceOrd = Dbots.groupby(['device'])['bidder_id'].count().reset_index(name='Count').sort_values(['Count'], ascending=False)\n",
    "DeviceOrd.head(6)"
   ]
  },
  {
   "cell_type": "code",
   "execution_count": 24,
   "id": "39a7863d",
   "metadata": {},
   "outputs": [
    {
     "data": {
      "text/plain": [
       "<AxesSubplot:xlabel='device', ylabel='Count'>"
      ]
     },
     "execution_count": 24,
     "metadata": {},
     "output_type": "execute_result"
    },
    {
     "data": {
      "image/png": "[encoded data removed]",
      "text/plain": [
       "<Figure size 936x576 with 1 Axes>"
      ]
     },
     "metadata": {
      "needs_background": "light"
     },
     "output_type": "display_data"
    }
   ],
   "source": [
    "B = DeviceOrd[0:6]\n",
    "plt.figure(figsize=(13,8))\n",
    "sns.barplot(x = B.device, y= B.Count, data= B, palette=\"Paired\")"
   ]
  },
  {
   "cell_type": "code",
   "execution_count": 25,
   "id": "099f55a6",
   "metadata": {},
   "outputs": [
    {
     "data": {
      "text/html": [
       "<div>\n",
       "<style scoped>\n",
       "    .dataframe tbody tr th:only-of-type {\n",
       "        vertical-align: middle;\n",
       "    }\n",
       "\n",
       "    .dataframe tbody tr th {\n",
       "        vertical-align: top;\n",
       "    }\n",
       "\n",
       "    .dataframe thead th {\n",
       "        text-align: right;\n",
       "    }\n",
       "</style>\n",
       "<table border=\"1\" class=\"dataframe\">\n",
       "  <thead>\n",
       "    <tr style=\"text-align: right;\">\n",
       "      <th></th>\n",
       "      <th>url</th>\n",
       "      <th>Count</th>\n",
       "    </tr>\n",
       "  </thead>\n",
       "  <tbody>\n",
       "    <tr>\n",
       "      <th>47790</th>\n",
       "      <td>vasstdc27m7nks3</td>\n",
       "      <td>292145</td>\n",
       "    </tr>\n",
       "    <tr>\n",
       "      <th>32482</th>\n",
       "      <td>lacduz3i6mjlfkd</td>\n",
       "      <td>2055</td>\n",
       "    </tr>\n",
       "    <tr>\n",
       "      <th>42130</th>\n",
       "      <td>rmdm1f1lak48s6g</td>\n",
       "      <td>1324</td>\n",
       "    </tr>\n",
       "  </tbody>\n",
       "</table>\n",
       "</div>"
      ],
      "text/plain": [
       "                   url   Count\n",
       "47790  vasstdc27m7nks3  292145\n",
       "32482  lacduz3i6mjlfkd    2055\n",
       "42130  rmdm1f1lak48s6g    1324"
      ]
     },
     "execution_count": 25,
     "metadata": {},
     "output_type": "execute_result"
    }
   ],
   "source": [
    "UrlOrd = Dbots.groupby(['url'])['bidder_id'].count().reset_index(name='Count').sort_values(['Count'], ascending=False)\n",
    "UrlOrd.head(3)"
   ]
  },
  {
   "cell_type": "code",
   "execution_count": 26,
   "id": "a78957fd",
   "metadata": {},
   "outputs": [
    {
     "data": {
      "text/plain": [
       "<AxesSubplot:xlabel='url', ylabel='Count'>"
      ]
     },
     "execution_count": 26,
     "metadata": {},
     "output_type": "execute_result"
    },
    {
     "data": {
      "image/png": "[encoded data removed]",
      "text/plain": [
       "<Figure size 936x576 with 1 Axes>"
      ]
     },
     "metadata": {
      "needs_background": "light"
     },
     "output_type": "display_data"
    }
   ],
   "source": [
    "C = UrlOrd[0:3]\n",
    "plt.figure(figsize=(13,8))\n",
    "sns.barplot(x = C.url, y= C.Count, data= C, palette=\"cubehelix\")"
   ]
  },
  {
   "cell_type": "code",
   "execution_count": 27,
   "id": "a9a47853",
   "metadata": {},
   "outputs": [
    {
     "data": {
      "text/html": [
       "<div>\n",
       "<style scoped>\n",
       "    .dataframe tbody tr th:only-of-type {\n",
       "        vertical-align: middle;\n",
       "    }\n",
       "\n",
       "    .dataframe tbody tr th {\n",
       "        vertical-align: top;\n",
       "    }\n",
       "\n",
       "    .dataframe thead th {\n",
       "        text-align: right;\n",
       "    }\n",
       "</style>\n",
       "<table border=\"1\" class=\"dataframe\">\n",
       "  <thead>\n",
       "    <tr style=\"text-align: right;\">\n",
       "      <th></th>\n",
       "      <th>merchandise</th>\n",
       "      <th>Count</th>\n",
       "    </tr>\n",
       "  </thead>\n",
       "  <tbody>\n",
       "    <tr>\n",
       "      <th>6</th>\n",
       "      <td>sporting goods</td>\n",
       "      <td>230233</td>\n",
       "    </tr>\n",
       "    <tr>\n",
       "      <th>4</th>\n",
       "      <td>mobile</td>\n",
       "      <td>105110</td>\n",
       "    </tr>\n",
       "    <tr>\n",
       "      <th>3</th>\n",
       "      <td>jewelry</td>\n",
       "      <td>37007</td>\n",
       "    </tr>\n",
       "    <tr>\n",
       "      <th>2</th>\n",
       "      <td>home goods</td>\n",
       "      <td>18678</td>\n",
       "    </tr>\n",
       "    <tr>\n",
       "      <th>1</th>\n",
       "      <td>computers</td>\n",
       "      <td>11667</td>\n",
       "    </tr>\n",
       "    <tr>\n",
       "      <th>5</th>\n",
       "      <td>office equipment</td>\n",
       "      <td>7945</td>\n",
       "    </tr>\n",
       "  </tbody>\n",
       "</table>\n",
       "</div>"
      ],
      "text/plain": [
       "        merchandise   Count\n",
       "6    sporting goods  230233\n",
       "4            mobile  105110\n",
       "3           jewelry   37007\n",
       "2        home goods   18678\n",
       "1         computers   11667\n",
       "5  office equipment    7945"
      ]
     },
     "execution_count": 27,
     "metadata": {},
     "output_type": "execute_result"
    }
   ],
   "source": [
    "MerchOrd = Dbots.groupby(['merchandise'])['bidder_id'].count().reset_index(name='Count').sort_values(['Count'], ascending=False)\n",
    "MerchOrd.head(6)"
   ]
  },
  {
   "cell_type": "code",
   "execution_count": 28,
   "id": "c1530eaf",
   "metadata": {},
   "outputs": [
    {
     "data": {
      "text/plain": [
       "<AxesSubplot:xlabel='merchandise', ylabel='Count'>"
      ]
     },
     "execution_count": 28,
     "metadata": {},
     "output_type": "execute_result"
    },
    {
     "data": {
      "image/png": "[encoded data removed]",
      "text/plain": [
       "<Figure size 936x576 with 1 Axes>"
      ]
     },
     "metadata": {
      "needs_background": "light"
     },
     "output_type": "display_data"
    }
   ],
   "source": [
    "D = MerchOrd[0:6]\n",
    "plt.figure(figsize=(13,8))\n",
    "sns.barplot(x = D.merchandise, y= D.Count, data= D, palette=\"mako\")"
   ]
  },
  {
   "cell_type": "code",
   "execution_count": 29,
   "id": "8ac644a8",
   "metadata": {},
   "outputs": [
    {
     "data": {
      "text/html": [
       "<div>\n",
       "<style scoped>\n",
       "    .dataframe tbody tr th:only-of-type {\n",
       "        vertical-align: middle;\n",
       "    }\n",
       "\n",
       "    .dataframe tbody tr th {\n",
       "        vertical-align: top;\n",
       "    }\n",
       "\n",
       "    .dataframe thead th {\n",
       "        text-align: right;\n",
       "    }\n",
       "</style>\n",
       "<table border=\"1\" class=\"dataframe\">\n",
       "  <thead>\n",
       "    <tr style=\"text-align: right;\">\n",
       "      <th></th>\n",
       "      <th>outcome</th>\n",
       "      <th>time</th>\n",
       "      <th>time_normalized</th>\n",
       "    </tr>\n",
       "  </thead>\n",
       "  <tbody>\n",
       "    <tr>\n",
       "      <th>count</th>\n",
       "      <td>3.068459e+06</td>\n",
       "      <td>3.068459e+06</td>\n",
       "      <td>3.068459e+06</td>\n",
       "    </tr>\n",
       "    <tr>\n",
       "      <th>mean</th>\n",
       "      <td>1.343173e-01</td>\n",
       "      <td>9.696611e+15</td>\n",
       "      <td>1.229190e+06</td>\n",
       "    </tr>\n",
       "    <tr>\n",
       "      <th>std</th>\n",
       "      <td>3.409929e-01</td>\n",
       "      <td>5.256740e+13</td>\n",
       "      <td>9.987805e+05</td>\n",
       "    </tr>\n",
       "    <tr>\n",
       "      <th>min</th>\n",
       "      <td>0.000000e+00</td>\n",
       "      <td>9.631917e+15</td>\n",
       "      <td>0.000000e+00</td>\n",
       "    </tr>\n",
       "    <tr>\n",
       "      <th>25%</th>\n",
       "      <td>0.000000e+00</td>\n",
       "      <td>9.640958e+15</td>\n",
       "      <td>1.717795e+05</td>\n",
       "    </tr>\n",
       "    <tr>\n",
       "      <th>50%</th>\n",
       "      <td>0.000000e+00</td>\n",
       "      <td>9.700339e+15</td>\n",
       "      <td>1.300029e+06</td>\n",
       "    </tr>\n",
       "    <tr>\n",
       "      <th>75%</th>\n",
       "      <td>0.000000e+00</td>\n",
       "      <td>9.761309e+15</td>\n",
       "      <td>2.458454e+06</td>\n",
       "    </tr>\n",
       "    <tr>\n",
       "      <th>max</th>\n",
       "      <td>1.000000e+00</td>\n",
       "      <td>9.772885e+15</td>\n",
       "      <td>2.678399e+06</td>\n",
       "    </tr>\n",
       "  </tbody>\n",
       "</table>\n",
       "</div>"
      ],
      "text/plain": [
       "            outcome          time  time_normalized\n",
       "count  3.068459e+06  3.068459e+06     3.068459e+06\n",
       "mean   1.343173e-01  9.696611e+15     1.229190e+06\n",
       "std    3.409929e-01  5.256740e+13     9.987805e+05\n",
       "min    0.000000e+00  9.631917e+15     0.000000e+00\n",
       "25%    0.000000e+00  9.640958e+15     1.717795e+05\n",
       "50%    0.000000e+00  9.700339e+15     1.300029e+06\n",
       "75%    0.000000e+00  9.761309e+15     2.458454e+06\n",
       "max    1.000000e+00  9.772885e+15     2.678399e+06"
      ]
     },
     "execution_count": 29,
     "metadata": {},
     "output_type": "execute_result"
    }
   ],
   "source": [
    "df.describe()"
   ]
  },
  {
   "cell_type": "code",
   "execution_count": 30,
   "id": "3b982cda",
   "metadata": {},
   "outputs": [
    {
     "name": "stdout",
     "output_type": "stream",
     "text": [
      "<class 'pandas.core.frame.DataFrame'>\n",
      "Int64Index: 3068459 entries, 0 to 3071223\n",
      "Data columns (total 12 columns):\n",
      " #   Column           Dtype  \n",
      "---  ------           -----  \n",
      " 0   bidder_id        object \n",
      " 1   payment_account  object \n",
      " 2   address          object \n",
      " 3   outcome          float64\n",
      " 4   auction          object \n",
      " 5   merchandise      object \n",
      " 6   device           object \n",
      " 7   time             int64  \n",
      " 8   country          object \n",
      " 9   ip               object \n",
      " 10  url              object \n",
      " 11  time_normalized  float64\n",
      "dtypes: float64(2), int64(1), object(9)\n",
      "memory usage: 304.3+ MB\n"
     ]
    }
   ],
   "source": [
    "df.info()"
   ]
  },
  {
   "cell_type": "code",
   "execution_count": 31,
   "id": "2b947c4c",
   "metadata": {},
   "outputs": [],
   "source": [
    "target = 'outcome'\n",
    "features = ['bidder_id', 'payment_account','address','outcome','auction','merchandise','device','time','country','ip','url']\n",
    "numeric_features = ['outcome', 'time']\n",
    "categorical_features = ['bidder_id', 'payment_account', 'address', 'auction', 'merchandise', 'device', 'country', 'ip', 'url']"
   ]
  },
  {
   "cell_type": "code",
   "execution_count": 32,
   "id": "5ae34de5",
   "metadata": {},
   "outputs": [],
   "source": [
    "#Label Encoder \n",
    "for col in categorical_features:\n",
    "    le = LabelEncoder()\n",
    "    le.fit(list(df[col].astype(str).values))\n",
    "    df[col] = le.transform(list(df[col].astype(str).values))"
   ]
  },
  {
   "cell_type": "code",
   "execution_count": 33,
   "id": "5b29d5f7",
   "metadata": {},
   "outputs": [],
   "source": [
    "X = df.drop('outcome', axis=1)\n",
    "y = df['outcome']"
   ]
  },
  {
   "cell_type": "code",
   "execution_count": 34,
   "id": "9a572ce0",
   "metadata": {},
   "outputs": [],
   "source": [
    "X_train, X_test, y_train, y_test = train_test_split(X, y, test_size=0.3, random_state=0) # 70% training and 30% test"
   ]
  },
  {
   "cell_type": "code",
   "execution_count": 35,
   "id": "e747589f",
   "metadata": {
    "scrolled": true
   },
   "outputs": [
    {
     "data": {
      "text/plain": [
       "RandomForestClassifier(n_estimators=6, random_state=1)"
      ]
     },
     "execution_count": 35,
     "metadata": {},
     "output_type": "execute_result"
    }
   ],
   "source": [
    "#Gaussian Classifier\n",
    "forest = RandomForestClassifier(n_estimators=10, random_state=1)\n",
    "forest.fit(X_train, y_train)"
   ]
  },
  {
   "cell_type": "code",
   "execution_count": 36,
   "id": "09858bf8",
   "metadata": {},
   "outputs": [
    {
     "name": "stdout",
     "output_type": "stream",
     "text": [
      "Accuracy on training set: 0.9999972066011739\n",
      "Accuracy on test set: 0.9999815325385807\n"
     ]
    }
   ],
   "source": [
    "print(\"Accuracy on training set:\",format(forest.score(X_train, y_train))) \n",
    "print(\"Accuracy on test set:\",format(forest.score(X_test, y_test)))"
   ]
  },
  {
   "cell_type": "code",
   "execution_count": 38,
   "id": "78956a29",
   "metadata": {},
   "outputs": [
    {
     "name": "stdout",
     "output_type": "stream",
     "text": [
      "Accuracy: 0.9999815325385807\n"
     ]
    }
   ],
   "source": [
    "y_pred=forest.predict(X_test)\n",
    "print(\"Accuracy:\",metrics.accuracy_score(y_test, y_pred))"
   ]
  },
  {
   "cell_type": "code",
   "execution_count": 43,
   "id": "5e9c9484",
   "metadata": {},
   "outputs": [
    {
     "data": {
      "text/html": [
       "<div>\n",
       "<style scoped>\n",
       "    .dataframe tbody tr th:only-of-type {\n",
       "        vertical-align: middle;\n",
       "    }\n",
       "\n",
       "    .dataframe tbody tr th {\n",
       "        vertical-align: top;\n",
       "    }\n",
       "\n",
       "    .dataframe thead th {\n",
       "        text-align: right;\n",
       "    }\n",
       "</style>\n",
       "<table border=\"1\" class=\"dataframe\">\n",
       "  <thead>\n",
       "    <tr style=\"text-align: right;\">\n",
       "      <th></th>\n",
       "      <th>Predicted:0</th>\n",
       "      <th>Predicted:1</th>\n",
       "    </tr>\n",
       "  </thead>\n",
       "  <tbody>\n",
       "    <tr>\n",
       "      <th>Actual:0</th>\n",
       "      <td>797240</td>\n",
       "      <td>0</td>\n",
       "    </tr>\n",
       "    <tr>\n",
       "      <th>Actual:1</th>\n",
       "      <td>17</td>\n",
       "      <td>123281</td>\n",
       "    </tr>\n",
       "  </tbody>\n",
       "</table>\n",
       "</div>"
      ],
      "text/plain": [
       "          Predicted:0  Predicted:1\n",
       "Actual:0       797240            0\n",
       "Actual:1           17       123281"
      ]
     },
     "execution_count": 43,
     "metadata": {},
     "output_type": "execute_result"
    }
   ],
   "source": [
    "cm=confusion_matrix(y_test,y_pred)\n",
    "conf_matrix=pd.DataFrame(data=cm,columns=['Predicted:0','Predicted:1'],index=['Actual:0','Actual:1'])\n",
    "conf_matrix"
   ]
  }
 ],
 "metadata": {
  "kernelspec": {
   "display_name": "Python 3",
   "language": "python",
   "name": "python3"
  },
  "language_info": {
   "codemirror_mode": {
    "name": "ipython",
    "version": 3
   },
   "file_extension": ".py",
   "mimetype": "text/x-python",
   "name": "python",
   "nbconvert_exporter": "python",
   "pygments_lexer": "ipython3",
   "version": "3.8.8"
  }
 },
 "nbformat": 4,
 "nbformat_minor": 5
}
